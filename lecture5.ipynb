{
 "cells": [
  {
   "cell_type": "code",
   "execution_count": 60,
   "metadata": {
    "collapsed": false
   },
   "outputs": [],
   "source": [
    "#basic statistics\n",
    "import pandas as pd\n",
    "import numpy as np\n",
    "from scipy import stats\n",
    "import matplotlib.pyplot as plt"
   ]
  },
  {
   "cell_type": "code",
   "execution_count": 61,
   "metadata": {
    "collapsed": true
   },
   "outputs": [],
   "source": [
    "d = pd.read_csv('classroom_data.csv')"
   ]
  },
  {
   "cell_type": "code",
   "execution_count": 62,
   "metadata": {
    "collapsed": false
   },
   "outputs": [
    {
     "data": {
      "text/html": [
       "<div>\n",
       "<table border=\"1\" class=\"dataframe\">\n",
       "  <thead>\n",
       "    <tr style=\"text-align: right;\">\n",
       "      <th></th>\n",
       "      <th>subject</th>\n",
       "      <th>age</th>\n",
       "      <th>sex</th>\n",
       "      <th>test_score</th>\n",
       "      <th>hours_slept</th>\n",
       "      <th>test_difficulty</th>\n",
       "      <th>hours_studied</th>\n",
       "    </tr>\n",
       "  </thead>\n",
       "  <tbody>\n",
       "    <tr>\n",
       "      <th>0</th>\n",
       "      <td>sub01</td>\n",
       "      <td>13.7</td>\n",
       "      <td>0</td>\n",
       "      <td>0.61</td>\n",
       "      <td>6.5</td>\n",
       "      <td>3</td>\n",
       "      <td>1.9</td>\n",
       "    </tr>\n",
       "    <tr>\n",
       "      <th>1</th>\n",
       "      <td>sub02</td>\n",
       "      <td>14.5</td>\n",
       "      <td>0</td>\n",
       "      <td>0.72</td>\n",
       "      <td>7.8</td>\n",
       "      <td>3</td>\n",
       "      <td>1.0</td>\n",
       "    </tr>\n",
       "    <tr>\n",
       "      <th>2</th>\n",
       "      <td>sub03</td>\n",
       "      <td>14.3</td>\n",
       "      <td>0</td>\n",
       "      <td>0.94</td>\n",
       "      <td>7.4</td>\n",
       "      <td>1</td>\n",
       "      <td>3.2</td>\n",
       "    </tr>\n",
       "    <tr>\n",
       "      <th>3</th>\n",
       "      <td>sub04</td>\n",
       "      <td>14.7</td>\n",
       "      <td>0</td>\n",
       "      <td>0.78</td>\n",
       "      <td>7.6</td>\n",
       "      <td>1</td>\n",
       "      <td>1.2</td>\n",
       "    </tr>\n",
       "    <tr>\n",
       "      <th>4</th>\n",
       "      <td>sub05</td>\n",
       "      <td>13.1</td>\n",
       "      <td>0</td>\n",
       "      <td>1.03</td>\n",
       "      <td>7.7</td>\n",
       "      <td>0</td>\n",
       "      <td>3.6</td>\n",
       "    </tr>\n",
       "  </tbody>\n",
       "</table>\n",
       "</div>"
      ],
      "text/plain": [
       "  subject   age  sex  test_score  hours_slept  test_difficulty  hours_studied\n",
       "0   sub01  13.7    0        0.61          6.5                3            1.9\n",
       "1   sub02  14.5    0        0.72          7.8                3            1.0\n",
       "2   sub03  14.3    0        0.94          7.4                1            3.2\n",
       "3   sub04  14.7    0        0.78          7.6                1            1.2\n",
       "4   sub05  13.1    0        1.03          7.7                0            3.6"
      ]
     },
     "execution_count": 62,
     "metadata": {},
     "output_type": "execute_result"
    }
   ],
   "source": [
    "d.head()"
   ]
  },
  {
   "cell_type": "code",
   "execution_count": 63,
   "metadata": {
    "collapsed": false
   },
   "outputs": [
    {
     "data": {
      "text/plain": [
       "subject             object\n",
       "age                float64\n",
       "sex                  int64\n",
       "test_score         float64\n",
       "hours_slept        float64\n",
       "test_difficulty      int64\n",
       "hours_studied      float64\n",
       "dtype: object"
      ]
     },
     "execution_count": 63,
     "metadata": {},
     "output_type": "execute_result"
    }
   ],
   "source": [
    "d.dtypes"
   ]
  },
  {
   "cell_type": "code",
   "execution_count": 64,
   "metadata": {
    "collapsed": false
   },
   "outputs": [],
   "source": [
    "d['sex'] = d['sex'].astype('category')"
   ]
  },
  {
   "cell_type": "code",
   "execution_count": 65,
   "metadata": {
    "collapsed": false
   },
   "outputs": [
    {
     "data": {
      "text/html": [
       "<div>\n",
       "<table border=\"1\" class=\"dataframe\">\n",
       "  <thead>\n",
       "    <tr style=\"text-align: right;\">\n",
       "      <th></th>\n",
       "      <th>age</th>\n",
       "      <th>test_score</th>\n",
       "      <th>hours_slept</th>\n",
       "      <th>test_difficulty</th>\n",
       "      <th>hours_studied</th>\n",
       "    </tr>\n",
       "  </thead>\n",
       "  <tbody>\n",
       "    <tr>\n",
       "      <th>age</th>\n",
       "      <td>1.000000</td>\n",
       "      <td>0.054538</td>\n",
       "      <td>0.057593</td>\n",
       "      <td>0.066288</td>\n",
       "      <td>-0.029196</td>\n",
       "    </tr>\n",
       "    <tr>\n",
       "      <th>test_score</th>\n",
       "      <td>0.054538</td>\n",
       "      <td>1.000000</td>\n",
       "      <td>0.452727</td>\n",
       "      <td>-0.504098</td>\n",
       "      <td>0.797504</td>\n",
       "    </tr>\n",
       "    <tr>\n",
       "      <th>hours_slept</th>\n",
       "      <td>0.057593</td>\n",
       "      <td>0.452727</td>\n",
       "      <td>1.000000</td>\n",
       "      <td>-0.393601</td>\n",
       "      <td>0.292505</td>\n",
       "    </tr>\n",
       "    <tr>\n",
       "      <th>test_difficulty</th>\n",
       "      <td>0.066288</td>\n",
       "      <td>-0.504098</td>\n",
       "      <td>-0.393601</td>\n",
       "      <td>1.000000</td>\n",
       "      <td>-0.425845</td>\n",
       "    </tr>\n",
       "    <tr>\n",
       "      <th>hours_studied</th>\n",
       "      <td>-0.029196</td>\n",
       "      <td>0.797504</td>\n",
       "      <td>0.292505</td>\n",
       "      <td>-0.425845</td>\n",
       "      <td>1.000000</td>\n",
       "    </tr>\n",
       "  </tbody>\n",
       "</table>\n",
       "</div>"
      ],
      "text/plain": [
       "                      age  test_score  hours_slept  test_difficulty  \\\n",
       "age              1.000000    0.054538     0.057593         0.066288   \n",
       "test_score       0.054538    1.000000     0.452727        -0.504098   \n",
       "hours_slept      0.057593    0.452727     1.000000        -0.393601   \n",
       "test_difficulty  0.066288   -0.504098    -0.393601         1.000000   \n",
       "hours_studied   -0.029196    0.797504     0.292505        -0.425845   \n",
       "\n",
       "                 hours_studied  \n",
       "age                  -0.029196  \n",
       "test_score            0.797504  \n",
       "hours_slept           0.292505  \n",
       "test_difficulty      -0.425845  \n",
       "hours_studied         1.000000  "
      ]
     },
     "execution_count": 65,
     "metadata": {},
     "output_type": "execute_result"
    }
   ],
   "source": [
    "#correlation matrix\n",
    "d.corr(method = 'pearson')"
   ]
  },
  {
   "cell_type": "code",
   "execution_count": 66,
   "metadata": {
    "collapsed": false
   },
   "outputs": [
    {
     "data": {
      "text/plain": [
       "(0.057593265055032504, 0.57931955731602613)"
      ]
     },
     "execution_count": 66,
     "metadata": {},
     "output_type": "execute_result"
    }
   ],
   "source": [
    "stats.pearsonr(d['age'],d['hours_slept'])"
   ]
  },
  {
   "cell_type": "code",
   "execution_count": 67,
   "metadata": {
    "collapsed": false
   },
   "outputs": [
    {
     "data": {
      "image/png": "[encoded data removed]",
      "text/plain": [
       "<matplotlib.figure.Figure at 0x11c6d6ad0>"
      ]
     },
     "metadata": {},
     "output_type": "display_data"
    }
   ],
   "source": [
    "plt.scatter(d['age'],d['hours_slept'])\n",
    "plt.show()"
   ]
  },
  {
   "cell_type": "code",
   "execution_count": 68,
   "metadata": {
    "collapsed": false
   },
   "outputs": [
    {
     "data": {
      "text/plain": [
       "(0.45272747224000387, 4.0972236328755293e-06)"
      ]
     },
     "execution_count": 68,
     "metadata": {},
     "output_type": "execute_result"
    }
   ],
   "source": [
    "stats.pearsonr(d['test_score'],d['hours_slept'])"
   ]
  },
  {
   "cell_type": "code",
   "execution_count": 69,
   "metadata": {
    "collapsed": false
   },
   "outputs": [
    {
     "data": {
      "image/png": "[encoded data removed]",
      "text/plain": [
       "<matplotlib.figure.Figure at 0x11c827590>"
      ]
     },
     "metadata": {},
     "output_type": "display_data"
    }
   ],
   "source": [
    "plt.scatter(d['test_score'],d['hours_slept'])\n",
    "plt.show()"
   ]
  },
  {
   "cell_type": "code",
   "execution_count": 70,
   "metadata": {
    "collapsed": false
   },
   "outputs": [
    {
     "data": {
      "text/plain": [
       "[0     6.801449\n",
       " 1     7.100949\n",
       " 2     7.699947\n",
       " 3     7.264312\n",
       " 4     7.944992\n",
       " 5     7.073721\n",
       " 6     7.182630\n",
       " 7     7.482129\n",
       " 8     7.509357\n",
       " 9     7.754401\n",
       " 10    6.992040\n",
       " 11    7.155403\n",
       " 12    7.699947\n",
       " 13    7.454902\n",
       " 14    7.836083\n",
       " 15    6.910358\n",
       " 16    7.264312\n",
       " 17    7.699947\n",
       " 18    7.237085\n",
       " 19    7.754401\n",
       " 20    7.128176\n",
       " 21    7.155403\n",
       " 22    7.482129\n",
       " 23    7.563811\n",
       " 24    7.591038\n",
       " 25    6.992040\n",
       " 26    7.209857\n",
       " 27    7.400448\n",
       " 28    7.373221\n",
       " 29    7.618265\n",
       "         ...   \n",
       " 65    7.128176\n",
       " 66    7.128176\n",
       " 67    7.727174\n",
       " 68    7.482129\n",
       " 69    7.672720\n",
       " 70    7.100949\n",
       " 71    7.400448\n",
       " 72    7.699947\n",
       " 73    7.264312\n",
       " 74    7.591038\n",
       " 75    7.100949\n",
       " 76    7.373221\n",
       " 77    7.373221\n",
       " 78    7.291539\n",
       " 79    7.836083\n",
       " 80    6.828677\n",
       " 81    7.046494\n",
       " 82    7.699947\n",
       " 83    7.237085\n",
       " 84    7.890537\n",
       " 85    6.855904\n",
       " 86    7.209857\n",
       " 87    7.427675\n",
       " 88    7.509357\n",
       " 89    7.781629\n",
       " 90    6.883131\n",
       " 91    7.209857\n",
       " 92    7.509357\n",
       " 93    7.563811\n",
       " 94    7.727174\n",
       " Name: test_score, dtype: float64]"
      ]
     },
     "execution_count": 70,
     "metadata": {},
     "output_type": "execute_result"
    }
   ],
   "source": [
    "slope = stats.linregress(d['test_score'],d['hours_slept'])[0]\n",
    "intercept = stats.linregress(d['test_score'],d['hours_slept'])[1]\n",
    "\n",
    "# Create a list of values in the best fit line\n",
    "abline_values = [slope * d['test_score'] + intercept]\n",
    "abline_values"
   ]
  },
  {
   "cell_type": "code",
   "execution_count": 71,
   "metadata": {
    "collapsed": false
   },
   "outputs": [
    {
     "data": {
      "text/plain": [
       "<matplotlib.collections.PathCollection at 0x11c827790>"
      ]
     },
     "execution_count": 71,
     "metadata": {},
     "output_type": "execute_result"
    }
   ],
   "source": [
    "fig, ax = plt.subplots()\n",
    "fit = np.polyfit(d['test_score'],d['hours_slept'], deg=1)\n",
    "ax.plot(d['test_score'], fit[0] *d['test_score'] + fit[1], color='red')\n",
    "ax.scatter(d['test_score'],d['hours_slept'])"
   ]
  },
  {
   "cell_type": "code",
   "execution_count": 72,
   "metadata": {
    "collapsed": false
   },
   "outputs": [
    {
     "data": {
      "image/png": "[encoded data removed]",
      "text/plain": [
       "<matplotlib.figure.Figure at 0x11c827d90>"
      ]
     },
     "metadata": {},
     "output_type": "display_data"
    }
   ],
   "source": [
    "plt.show()"
   ]
  },
  {
   "cell_type": "code",
   "execution_count": null,
   "metadata": {
    "collapsed": true
   },
   "outputs": [],
   "source": []
  }
 ],
 "metadata": {
  "kernelspec": {
   "display_name": "Python 2",
   "language": "python",
   "name": "python2"
  },
  "language_info": {
   "codemirror_mode": {
    "name": "ipython",
    "version": 2
   },
   "file_extension": ".py",
   "mimetype": "text/x-python",
   "name": "python",
   "nbconvert_exporter": "python",
   "pygments_lexer": "ipython2",
   "version": "2.7.13"
  }
 },
 "nbformat": 4,
 "nbformat_minor": 2
}
