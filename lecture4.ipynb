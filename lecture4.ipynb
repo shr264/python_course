{
 "cells": [
  {
   "cell_type": "code",
   "execution_count": 2,
   "metadata": {
    "collapsed": true
   },
   "outputs": [],
   "source": [
    "#summary statistics\n",
    "import pandas as pd\n",
    "import numpy as np"
   ]
  },
  {
   "cell_type": "code",
   "execution_count": 3,
   "metadata": {
    "collapsed": true
   },
   "outputs": [],
   "source": [
    "data = pd.read_csv('class_data/object_types.csv')"
   ]
  },
  {
   "cell_type": "code",
   "execution_count": 4,
   "metadata": {
    "collapsed": false
   },
   "outputs": [
    {
     "data": {
      "text/html": [
       "<div>\n",
       "<table border=\"1\" class=\"dataframe\">\n",
       "  <thead>\n",
       "    <tr style=\"text-align: right;\">\n",
       "      <th></th>\n",
       "      <th>hours_slept</th>\n",
       "      <th>test_scores</th>\n",
       "      <th>subject</th>\n",
       "      <th>sex</th>\n",
       "      <th>initials</th>\n",
       "      <th>condition</th>\n",
       "      <th>complete</th>\n",
       "    </tr>\n",
       "  </thead>\n",
       "  <tbody>\n",
       "    <tr>\n",
       "      <th>0</th>\n",
       "      <td>6.0</td>\n",
       "      <td>0.80</td>\n",
       "      <td>sub01</td>\n",
       "      <td>0</td>\n",
       "      <td>RS</td>\n",
       "      <td>3</td>\n",
       "      <td>True</td>\n",
       "    </tr>\n",
       "    <tr>\n",
       "      <th>1</th>\n",
       "      <td>7.0</td>\n",
       "      <td>0.85</td>\n",
       "      <td>sub02</td>\n",
       "      <td>1</td>\n",
       "      <td>EE</td>\n",
       "      <td>3</td>\n",
       "      <td>True</td>\n",
       "    </tr>\n",
       "    <tr>\n",
       "      <th>2</th>\n",
       "      <td>6.5</td>\n",
       "      <td>0.80</td>\n",
       "      <td>sub03</td>\n",
       "      <td>1</td>\n",
       "      <td>DR</td>\n",
       "      <td>3</td>\n",
       "      <td>True</td>\n",
       "    </tr>\n",
       "    <tr>\n",
       "      <th>3</th>\n",
       "      <td>5.0</td>\n",
       "      <td>0.70</td>\n",
       "      <td>sub04</td>\n",
       "      <td>1</td>\n",
       "      <td>GM</td>\n",
       "      <td>4</td>\n",
       "      <td>True</td>\n",
       "    </tr>\n",
       "    <tr>\n",
       "      <th>4</th>\n",
       "      <td>7.0</td>\n",
       "      <td>0.90</td>\n",
       "      <td>sub05</td>\n",
       "      <td>0</td>\n",
       "      <td>PL</td>\n",
       "      <td>4</td>\n",
       "      <td>True</td>\n",
       "    </tr>\n",
       "  </tbody>\n",
       "</table>\n",
       "</div>"
      ],
      "text/plain": [
       "   hours_slept  test_scores subject  sex initials  condition complete\n",
       "0          6.0         0.80   sub01    0       RS          3     True\n",
       "1          7.0         0.85   sub02    1       EE          3     True\n",
       "2          6.5         0.80   sub03    1       DR          3     True\n",
       "3          5.0         0.70   sub04    1       GM          4     True\n",
       "4          7.0         0.90   sub05    0       PL          4     True"
      ]
     },
     "execution_count": 4,
     "metadata": {},
     "output_type": "execute_result"
    }
   ],
   "source": [
    "data.head()"
   ]
  },
  {
   "cell_type": "code",
   "execution_count": 5,
   "metadata": {
    "collapsed": false
   },
   "outputs": [
    {
     "data": {
      "text/plain": [
       "hours_slept    float64\n",
       "test_scores    float64\n",
       "subject         object\n",
       "sex              int64\n",
       "initials        object\n",
       "condition        int64\n",
       "complete          bool\n",
       "dtype: object"
      ]
     },
     "execution_count": 5,
     "metadata": {},
     "output_type": "execute_result"
    }
   ],
   "source": [
    "data.dtypes"
   ]
  },
  {
   "cell_type": "code",
   "execution_count": 6,
   "metadata": {
    "collapsed": true
   },
   "outputs": [],
   "source": [
    "data['sex'] = data['sex'].astype('category')\n",
    "data['subject'] = data['subject'].astype('category')\n",
    "data['condition'] = data['condition'].astype('category')"
   ]
  },
  {
   "cell_type": "code",
   "execution_count": 7,
   "metadata": {
    "collapsed": false
   },
   "outputs": [
    {
     "data": {
      "text/plain": [
       "Int64Index([3, 4], dtype='int64')"
      ]
     },
     "execution_count": 7,
     "metadata": {},
     "output_type": "execute_result"
    }
   ],
   "source": [
    "data['condition'].cat.categories"
   ]
  },
  {
   "cell_type": "code",
   "execution_count": 8,
   "metadata": {
    "collapsed": false
   },
   "outputs": [
    {
     "data": {
      "text/plain": [
       "count    20.000000\n",
       "mean      6.485000\n",
       "std       1.428755\n",
       "min       4.000000\n",
       "25%       5.375000\n",
       "50%       6.600000\n",
       "75%       7.625000\n",
       "max       9.000000\n",
       "Name: hours_slept, dtype: float64"
      ]
     },
     "execution_count": 8,
     "metadata": {},
     "output_type": "execute_result"
    }
   ],
   "source": [
    "#basic summary stats\n",
    "data['hours_slept'].describe()"
   ]
  },
  {
   "cell_type": "code",
   "execution_count": 9,
   "metadata": {
    "collapsed": false
   },
   "outputs": [
    {
     "data": {
      "text/plain": [
       "6.484999999999999"
      ]
     },
     "execution_count": 9,
     "metadata": {},
     "output_type": "execute_result"
    }
   ],
   "source": [
    "#you can calculate these measures individually\n",
    "#get the mean\n",
    "data['hours_slept'].mean()"
   ]
  },
  {
   "cell_type": "code",
   "execution_count": 10,
   "metadata": {
    "collapsed": false
   },
   "outputs": [
    {
     "data": {
      "text/plain": [
       "6.6"
      ]
     },
     "execution_count": 10,
     "metadata": {},
     "output_type": "execute_result"
    }
   ],
   "source": [
    "data['hours_slept'].median()"
   ]
  },
  {
   "cell_type": "code",
   "execution_count": 11,
   "metadata": {
    "collapsed": false
   },
   "outputs": [
    {
     "data": {
      "text/plain": [
       "1.428755439276841"
      ]
     },
     "execution_count": 11,
     "metadata": {},
     "output_type": "execute_result"
    }
   ],
   "source": [
    "data['hours_slept'].std()"
   ]
  },
  {
   "cell_type": "code",
   "execution_count": 12,
   "metadata": {
    "collapsed": false
   },
   "outputs": [
    {
     "data": {
      "text/plain": [
       "4.0"
      ]
     },
     "execution_count": 12,
     "metadata": {},
     "output_type": "execute_result"
    }
   ],
   "source": [
    "data['hours_slept'].min()"
   ]
  },
  {
   "cell_type": "code",
   "execution_count": 13,
   "metadata": {
    "collapsed": false
   },
   "outputs": [
    {
     "data": {
      "text/plain": [
       "9.0"
      ]
     },
     "execution_count": 13,
     "metadata": {},
     "output_type": "execute_result"
    }
   ],
   "source": [
    "data['hours_slept'].max()"
   ]
  },
  {
   "cell_type": "code",
   "execution_count": 14,
   "metadata": {
    "collapsed": false
   },
   "outputs": [
    {
     "data": {
      "text/plain": [
       "0     3\n",
       "1     3\n",
       "2     3\n",
       "3     4\n",
       "4     4\n",
       "5     4\n",
       "6     3\n",
       "7     4\n",
       "8     3\n",
       "9     4\n",
       "10    3\n",
       "11    3\n",
       "12    4\n",
       "13    4\n",
       "14    3\n",
       "15    4\n",
       "16    4\n",
       "17    3\n",
       "18    4\n",
       "19    4\n",
       "Name: condition, dtype: category\n",
       "Categories (2, int64): [3, 4]"
      ]
     },
     "execution_count": 14,
     "metadata": {},
     "output_type": "execute_result"
    }
   ],
   "source": [
    "data['condition']"
   ]
  },
  {
   "cell_type": "code",
   "execution_count": 15,
   "metadata": {
    "collapsed": false
   },
   "outputs": [
    {
     "data": {
      "text/plain": [
       "Index([u'junior', u'senior'], dtype='object')"
      ]
     },
     "execution_count": 15,
     "metadata": {},
     "output_type": "execute_result"
    }
   ],
   "source": [
    "#let's change these to names the 3 and 4 represent years in school\n",
    "data['condition'].cat.categories = ['junior','senior']\n",
    "data['condition'].cat.categories"
   ]
  },
  {
   "cell_type": "code",
   "execution_count": 16,
   "metadata": {
    "collapsed": false
   },
   "outputs": [
    {
     "data": {
      "text/plain": [
       "0     junior\n",
       "1     junior\n",
       "2     junior\n",
       "3     senior\n",
       "4     senior\n",
       "5     senior\n",
       "6     junior\n",
       "7     senior\n",
       "8     junior\n",
       "9     senior\n",
       "10    junior\n",
       "11    junior\n",
       "12    senior\n",
       "13    senior\n",
       "14    junior\n",
       "15    senior\n",
       "16    senior\n",
       "17    junior\n",
       "18    senior\n",
       "19    senior\n",
       "Name: condition, dtype: category\n",
       "Categories (2, object): [junior, senior]"
      ]
     },
     "execution_count": 16,
     "metadata": {},
     "output_type": "execute_result"
    }
   ],
   "source": [
    "data['condition']"
   ]
  },
  {
   "cell_type": "code",
   "execution_count": 18,
   "metadata": {
    "collapsed": false
   },
   "outputs": [
    {
     "data": {
      "text/html": [
       "<div>\n",
       "<table border=\"1\" class=\"dataframe\">\n",
       "  <thead>\n",
       "    <tr style=\"text-align: right;\">\n",
       "      <th>sex</th>\n",
       "      <th>0</th>\n",
       "      <th>1</th>\n",
       "    </tr>\n",
       "    <tr>\n",
       "      <th>condition</th>\n",
       "      <th></th>\n",
       "      <th></th>\n",
       "    </tr>\n",
       "  </thead>\n",
       "  <tbody>\n",
       "    <tr>\n",
       "      <th>junior</th>\n",
       "      <td>4</td>\n",
       "      <td>5</td>\n",
       "    </tr>\n",
       "    <tr>\n",
       "      <th>senior</th>\n",
       "      <td>6</td>\n",
       "      <td>5</td>\n",
       "    </tr>\n",
       "  </tbody>\n",
       "</table>\n",
       "</div>"
      ],
      "text/plain": [
       "sex        0  1\n",
       "condition      \n",
       "junior     4  5\n",
       "senior     6  5"
      ]
     },
     "execution_count": 18,
     "metadata": {},
     "output_type": "execute_result"
    }
   ],
   "source": [
    "#best ways to examine categorical data\n",
    "#frequency table\n",
    "#you can also look at the frequencies split on groups\n",
    "pd.crosstab(data['condition'],data['sex'])"
   ]
  },
  {
   "cell_type": "code",
   "execution_count": 19,
   "metadata": {
    "collapsed": true
   },
   "outputs": [],
   "source": [
    "#say we want to calculate the mean of hours_slept for juniors and seniors (condition 3 and 4) \n",
    "data.groupby?"
   ]
  },
  {
   "cell_type": "code",
   "execution_count": 20,
   "metadata": {
    "collapsed": false
   },
   "outputs": [
    {
     "data": {
      "text/plain": [
       "condition\n",
       "junior    5.966667\n",
       "senior    6.909091\n",
       "Name: hours_slept, dtype: float64"
      ]
     },
     "execution_count": 20,
     "metadata": {},
     "output_type": "execute_result"
    }
   ],
   "source": [
    "#mean of hours_slept for juniors and seniors \n",
    "data.groupby('condition')['hours_slept'].mean()"
   ]
  },
  {
   "cell_type": "code",
   "execution_count": 21,
   "metadata": {
    "collapsed": false
   },
   "outputs": [
    {
     "data": {
      "text/plain": [
       "condition\n",
       "junior    1.321930\n",
       "senior    1.428604\n",
       "Name: hours_slept, dtype: float64"
      ]
     },
     "execution_count": 21,
     "metadata": {},
     "output_type": "execute_result"
    }
   ],
   "source": [
    "#standard deviation of hours_slept for juniors and seniors \n",
    "data.groupby('condition')['hours_slept'].std()"
   ]
  },
  {
   "cell_type": "code",
   "execution_count": 25,
   "metadata": {
    "collapsed": false
   },
   "outputs": [
    {
     "data": {
      "text/html": [
       "<div>\n",
       "<table border=\"1\" class=\"dataframe\">\n",
       "  <thead>\n",
       "    <tr style=\"text-align: right;\">\n",
       "      <th></th>\n",
       "      <th>hours_slept</th>\n",
       "    </tr>\n",
       "    <tr>\n",
       "      <th>condition</th>\n",
       "      <th></th>\n",
       "    </tr>\n",
       "  </thead>\n",
       "  <tbody>\n",
       "    <tr>\n",
       "      <th>junior</th>\n",
       "      <td>6.0</td>\n",
       "    </tr>\n",
       "    <tr>\n",
       "      <th>senior</th>\n",
       "      <td>7.5</td>\n",
       "    </tr>\n",
       "  </tbody>\n",
       "</table>\n",
       "</div>"
      ],
      "text/plain": [
       "           hours_slept\n",
       "condition             \n",
       "junior             6.0\n",
       "senior             7.5"
      ]
     },
     "execution_count": 25,
     "metadata": {},
     "output_type": "execute_result"
    }
   ],
   "source": [
    "#how do I get the median hours_slept for juniors and seniors? I want to call the output sleep_med \n",
    "sleep_med = pd.DataFrame(data.groupby('condition')['hours_slept'].median())\n",
    "sleep_med"
   ]
  },
  {
   "cell_type": "code",
   "execution_count": 37,
   "metadata": {
    "collapsed": false
   },
   "outputs": [
    {
     "data": {
      "text/plain": [
       "Index([u'hours_slept_median'], dtype='object')"
      ]
     },
     "execution_count": 37,
     "metadata": {},
     "output_type": "execute_result"
    }
   ],
   "source": [
    "#since hours slept is now the median of hours_slept let's change the name\n",
    "sleep_med.columns"
   ]
  },
  {
   "cell_type": "code",
   "execution_count": 36,
   "metadata": {
    "collapsed": false
   },
   "outputs": [],
   "source": [
    "sleep_med = sleep_med.rename(columns = {'hours_slept':'hours_slept_median'})"
   ]
  },
  {
   "cell_type": "code",
   "execution_count": 38,
   "metadata": {
    "collapsed": false
   },
   "outputs": [
    {
     "data": {
      "text/html": [
       "<div>\n",
       "<table border=\"1\" class=\"dataframe\">\n",
       "  <thead>\n",
       "    <tr style=\"text-align: right;\">\n",
       "      <th></th>\n",
       "      <th>hours_slept_median</th>\n",
       "    </tr>\n",
       "    <tr>\n",
       "      <th>condition</th>\n",
       "      <th></th>\n",
       "    </tr>\n",
       "  </thead>\n",
       "  <tbody>\n",
       "    <tr>\n",
       "      <th>junior</th>\n",
       "      <td>6.0</td>\n",
       "    </tr>\n",
       "    <tr>\n",
       "      <th>senior</th>\n",
       "      <td>7.5</td>\n",
       "    </tr>\n",
       "  </tbody>\n",
       "</table>\n",
       "</div>"
      ],
      "text/plain": [
       "           hours_slept_median\n",
       "condition                    \n",
       "junior                    6.0\n",
       "senior                    7.5"
      ]
     },
     "execution_count": 38,
     "metadata": {},
     "output_type": "execute_result"
    }
   ],
   "source": [
    "sleep_med"
   ]
  },
  {
   "cell_type": "code",
   "execution_count": 39,
   "metadata": {
    "collapsed": false
   },
   "outputs": [
    {
     "data": {
      "text/plain": [
       "pandas.core.frame.DataFrame"
      ]
     },
     "execution_count": 39,
     "metadata": {},
     "output_type": "execute_result"
    }
   ],
   "source": [
    "#see how the output of aggregate is a data frame?\n",
    "type(sleep_med)"
   ]
  },
  {
   "cell_type": "code",
   "execution_count": 40,
   "metadata": {
    "collapsed": false
   },
   "outputs": [
    {
     "data": {
      "text/html": [
       "<div>\n",
       "<table border=\"1\" class=\"dataframe\">\n",
       "  <thead>\n",
       "    <tr style=\"text-align: right;\">\n",
       "      <th></th>\n",
       "      <th>hours_slept</th>\n",
       "      <th>test_scores</th>\n",
       "      <th>subject</th>\n",
       "      <th>sex</th>\n",
       "      <th>initials</th>\n",
       "      <th>condition</th>\n",
       "      <th>complete</th>\n",
       "    </tr>\n",
       "  </thead>\n",
       "  <tbody>\n",
       "    <tr>\n",
       "      <th>0</th>\n",
       "      <td>6.0</td>\n",
       "      <td>0.80</td>\n",
       "      <td>sub01</td>\n",
       "      <td>0</td>\n",
       "      <td>RS</td>\n",
       "      <td>junior</td>\n",
       "      <td>True</td>\n",
       "    </tr>\n",
       "    <tr>\n",
       "      <th>1</th>\n",
       "      <td>7.0</td>\n",
       "      <td>0.85</td>\n",
       "      <td>sub02</td>\n",
       "      <td>1</td>\n",
       "      <td>EE</td>\n",
       "      <td>junior</td>\n",
       "      <td>True</td>\n",
       "    </tr>\n",
       "    <tr>\n",
       "      <th>2</th>\n",
       "      <td>6.5</td>\n",
       "      <td>0.80</td>\n",
       "      <td>sub03</td>\n",
       "      <td>1</td>\n",
       "      <td>DR</td>\n",
       "      <td>junior</td>\n",
       "      <td>True</td>\n",
       "    </tr>\n",
       "    <tr>\n",
       "      <th>3</th>\n",
       "      <td>5.0</td>\n",
       "      <td>0.70</td>\n",
       "      <td>sub04</td>\n",
       "      <td>1</td>\n",
       "      <td>GM</td>\n",
       "      <td>senior</td>\n",
       "      <td>True</td>\n",
       "    </tr>\n",
       "    <tr>\n",
       "      <th>4</th>\n",
       "      <td>7.0</td>\n",
       "      <td>0.90</td>\n",
       "      <td>sub05</td>\n",
       "      <td>0</td>\n",
       "      <td>PL</td>\n",
       "      <td>senior</td>\n",
       "      <td>True</td>\n",
       "    </tr>\n",
       "  </tbody>\n",
       "</table>\n",
       "</div>"
      ],
      "text/plain": [
       "   hours_slept  test_scores subject sex initials condition complete\n",
       "0          6.0         0.80   sub01   0       RS    junior     True\n",
       "1          7.0         0.85   sub02   1       EE    junior     True\n",
       "2          6.5         0.80   sub03   1       DR    junior     True\n",
       "3          5.0         0.70   sub04   1       GM    senior     True\n",
       "4          7.0         0.90   sub05   0       PL    senior     True"
      ]
     },
     "execution_count": 40,
     "metadata": {},
     "output_type": "execute_result"
    }
   ],
   "source": [
    "data.head()"
   ]
  },
  {
   "cell_type": "code",
   "execution_count": 48,
   "metadata": {
    "collapsed": false
   },
   "outputs": [
    {
     "data": {
      "text/plain": [
       "condition  sex\n",
       "junior     0      0.757500\n",
       "           1      0.778000\n",
       "senior     0      0.838333\n",
       "           1      0.864000\n",
       "Name: test_scores, dtype: float64"
      ]
     },
     "execution_count": 48,
     "metadata": {},
     "output_type": "execute_result"
    }
   ],
   "source": [
    "data.groupby(['condition','sex'])['test_scores'].mean()"
   ]
  },
  {
   "cell_type": "code",
   "execution_count": 55,
   "metadata": {
    "collapsed": false
   },
   "outputs": [
    {
     "data": {
      "text/plain": [
       "2"
      ]
     },
     "execution_count": 55,
     "metadata": {},
     "output_type": "execute_result"
    }
   ],
   "source": [
    "def add1(num):\n",
    "    return num + 1\n",
    "add1(1)"
   ]
  },
  {
   "cell_type": "code",
   "execution_count": 72,
   "metadata": {
    "collapsed": false
   },
   "outputs": [
    {
     "data": {
      "text/html": [
       "<div>\n",
       "<table border=\"1\" class=\"dataframe\">\n",
       "  <thead>\n",
       "    <tr style=\"text-align: right;\">\n",
       "      <th></th>\n",
       "      <th>condition</th>\n",
       "      <th>sex</th>\n",
       "      <th>Std</th>\n",
       "      <th>Sum</th>\n",
       "      <th>Mean</th>\n",
       "      <th>Median</th>\n",
       "      <th>Size</th>\n",
       "    </tr>\n",
       "  </thead>\n",
       "  <tbody>\n",
       "    <tr>\n",
       "      <th>0</th>\n",
       "      <td>junior</td>\n",
       "      <td>0</td>\n",
       "      <td>0.180069</td>\n",
       "      <td>3.03</td>\n",
       "      <td>0.757500</td>\n",
       "      <td>0.805</td>\n",
       "      <td>4</td>\n",
       "    </tr>\n",
       "    <tr>\n",
       "      <th>1</th>\n",
       "      <td>junior</td>\n",
       "      <td>1</td>\n",
       "      <td>0.149064</td>\n",
       "      <td>3.89</td>\n",
       "      <td>0.778000</td>\n",
       "      <td>0.820</td>\n",
       "      <td>5</td>\n",
       "    </tr>\n",
       "    <tr>\n",
       "      <th>2</th>\n",
       "      <td>senior</td>\n",
       "      <td>0</td>\n",
       "      <td>0.087274</td>\n",
       "      <td>5.03</td>\n",
       "      <td>0.838333</td>\n",
       "      <td>0.870</td>\n",
       "      <td>6</td>\n",
       "    </tr>\n",
       "    <tr>\n",
       "      <th>3</th>\n",
       "      <td>senior</td>\n",
       "      <td>1</td>\n",
       "      <td>0.098387</td>\n",
       "      <td>4.32</td>\n",
       "      <td>0.864000</td>\n",
       "      <td>0.870</td>\n",
       "      <td>5</td>\n",
       "    </tr>\n",
       "  </tbody>\n",
       "</table>\n",
       "</div>"
      ],
      "text/plain": [
       "  condition sex       Std   Sum      Mean  Median  Size\n",
       "0    junior   0  0.180069  3.03  0.757500   0.805     4\n",
       "1    junior   1  0.149064  3.89  0.778000   0.820     5\n",
       "2    senior   0  0.087274  5.03  0.838333   0.870     6\n",
       "3    senior   1  0.098387  4.32  0.864000   0.870     5"
      ]
     },
     "execution_count": 72,
     "metadata": {},
     "output_type": "execute_result"
    }
   ],
   "source": [
    "## multiple functions\n",
    "agg_functions = dict(Size='size', Sum='sum', Mean='mean', Std='std', Median = 'median')\n",
    "data_info=data.groupby(['condition','sex'])['test_scores'].agg(agg_functions)\n",
    "pd.DataFrame(data_info).reset_index()"
   ]
  },
  {
   "cell_type": "code",
   "execution_count": 56,
   "metadata": {
    "collapsed": true
   },
   "outputs": [],
   "source": [
    "#Your turn!\n",
    "#1. Import sleep_data.csv and call the data sleep (please look at the data)\n",
    "sleep = pd.read_csv('sleep_data.csv')"
   ]
  },
  {
   "cell_type": "code",
   "execution_count": 57,
   "metadata": {
    "collapsed": false
   },
   "outputs": [
    {
     "data": {
      "text/html": [
       "<div>\n",
       "<table border=\"1\" class=\"dataframe\">\n",
       "  <thead>\n",
       "    <tr style=\"text-align: right;\">\n",
       "      <th></th>\n",
       "      <th>subject</th>\n",
       "      <th>sex</th>\n",
       "      <th>class</th>\n",
       "      <th>age</th>\n",
       "      <th>test_score</th>\n",
       "      <th>hours_slept</th>\n",
       "      <th>test_difficulty</th>\n",
       "    </tr>\n",
       "  </thead>\n",
       "  <tbody>\n",
       "    <tr>\n",
       "      <th>0</th>\n",
       "      <td>sub01</td>\n",
       "      <td>0</td>\n",
       "      <td>math</td>\n",
       "      <td>13.2</td>\n",
       "      <td>0.61</td>\n",
       "      <td>6.5</td>\n",
       "      <td>3</td>\n",
       "    </tr>\n",
       "    <tr>\n",
       "      <th>1</th>\n",
       "      <td>sub01</td>\n",
       "      <td>0</td>\n",
       "      <td>science</td>\n",
       "      <td>13.2</td>\n",
       "      <td>0.72</td>\n",
       "      <td>7.8</td>\n",
       "      <td>3</td>\n",
       "    </tr>\n",
       "    <tr>\n",
       "      <th>2</th>\n",
       "      <td>sub01</td>\n",
       "      <td>0</td>\n",
       "      <td>history</td>\n",
       "      <td>13.2</td>\n",
       "      <td>0.94</td>\n",
       "      <td>7.4</td>\n",
       "      <td>1</td>\n",
       "    </tr>\n",
       "    <tr>\n",
       "      <th>3</th>\n",
       "      <td>sub01</td>\n",
       "      <td>0</td>\n",
       "      <td>english</td>\n",
       "      <td>13.2</td>\n",
       "      <td>0.78</td>\n",
       "      <td>7.6</td>\n",
       "      <td>1</td>\n",
       "    </tr>\n",
       "    <tr>\n",
       "      <th>4</th>\n",
       "      <td>sub01</td>\n",
       "      <td>0</td>\n",
       "      <td>art</td>\n",
       "      <td>13.2</td>\n",
       "      <td>1.03</td>\n",
       "      <td>7.7</td>\n",
       "      <td>0</td>\n",
       "    </tr>\n",
       "  </tbody>\n",
       "</table>\n",
       "</div>"
      ],
      "text/plain": [
       "  subject  sex    class   age  test_score  hours_slept  test_difficulty\n",
       "0   sub01    0     math  13.2        0.61          6.5                3\n",
       "1   sub01    0  science  13.2        0.72          7.8                3\n",
       "2   sub01    0  history  13.2        0.94          7.4                1\n",
       "3   sub01    0  english  13.2        0.78          7.6                1\n",
       "4   sub01    0      art  13.2        1.03          7.7                0"
      ]
     },
     "execution_count": 57,
     "metadata": {},
     "output_type": "execute_result"
    }
   ],
   "source": [
    "sleep.head()"
   ]
  },
  {
   "cell_type": "code",
   "execution_count": 59,
   "metadata": {
    "collapsed": false
   },
   "outputs": [
    {
     "data": {
      "text/html": [
       "<div>\n",
       "<table border=\"1\" class=\"dataframe\">\n",
       "  <thead>\n",
       "    <tr style=\"text-align: right;\">\n",
       "      <th></th>\n",
       "      <th>subject</th>\n",
       "      <th>sex</th>\n",
       "      <th>class</th>\n",
       "      <th>age</th>\n",
       "      <th>test_score</th>\n",
       "      <th>hours_slept</th>\n",
       "      <th>test_difficulty</th>\n",
       "    </tr>\n",
       "  </thead>\n",
       "  <tbody>\n",
       "    <tr>\n",
       "      <th>0</th>\n",
       "      <td>sub01</td>\n",
       "      <td>0</td>\n",
       "      <td>math</td>\n",
       "      <td>13.2</td>\n",
       "      <td>0.61</td>\n",
       "      <td>6.5</td>\n",
       "      <td>3</td>\n",
       "    </tr>\n",
       "    <tr>\n",
       "      <th>5</th>\n",
       "      <td>sub02</td>\n",
       "      <td>1</td>\n",
       "      <td>math</td>\n",
       "      <td>14.6</td>\n",
       "      <td>0.71</td>\n",
       "      <td>8.0</td>\n",
       "      <td>3</td>\n",
       "    </tr>\n",
       "    <tr>\n",
       "      <th>10</th>\n",
       "      <td>sub03</td>\n",
       "      <td>0</td>\n",
       "      <td>math</td>\n",
       "      <td>14.2</td>\n",
       "      <td>0.68</td>\n",
       "      <td>5.7</td>\n",
       "      <td>3</td>\n",
       "    </tr>\n",
       "    <tr>\n",
       "      <th>15</th>\n",
       "      <td>sub04</td>\n",
       "      <td>1</td>\n",
       "      <td>math</td>\n",
       "      <td>13.3</td>\n",
       "      <td>0.65</td>\n",
       "      <td>6.1</td>\n",
       "      <td>4</td>\n",
       "    </tr>\n",
       "    <tr>\n",
       "      <th>20</th>\n",
       "      <td>sub05</td>\n",
       "      <td>0</td>\n",
       "      <td>math</td>\n",
       "      <td>14.2</td>\n",
       "      <td>0.73</td>\n",
       "      <td>8.3</td>\n",
       "      <td>2</td>\n",
       "    </tr>\n",
       "    <tr>\n",
       "      <th>25</th>\n",
       "      <td>sub06</td>\n",
       "      <td>1</td>\n",
       "      <td>math</td>\n",
       "      <td>14.8</td>\n",
       "      <td>0.68</td>\n",
       "      <td>6.4</td>\n",
       "      <td>3</td>\n",
       "    </tr>\n",
       "    <tr>\n",
       "      <th>30</th>\n",
       "      <td>sub07</td>\n",
       "      <td>0</td>\n",
       "      <td>math</td>\n",
       "      <td>13.8</td>\n",
       "      <td>0.73</td>\n",
       "      <td>8.0</td>\n",
       "      <td>4</td>\n",
       "    </tr>\n",
       "    <tr>\n",
       "      <th>35</th>\n",
       "      <td>sub08</td>\n",
       "      <td>1</td>\n",
       "      <td>math</td>\n",
       "      <td>13.9</td>\n",
       "      <td>0.74</td>\n",
       "      <td>8.0</td>\n",
       "      <td>5</td>\n",
       "    </tr>\n",
       "    <tr>\n",
       "      <th>40</th>\n",
       "      <td>sub09</td>\n",
       "      <td>0</td>\n",
       "      <td>math</td>\n",
       "      <td>13.2</td>\n",
       "      <td>0.73</td>\n",
       "      <td>7.0</td>\n",
       "      <td>3</td>\n",
       "    </tr>\n",
       "    <tr>\n",
       "      <th>45</th>\n",
       "      <td>sub10</td>\n",
       "      <td>1</td>\n",
       "      <td>math</td>\n",
       "      <td>14.8</td>\n",
       "      <td>0.71</td>\n",
       "      <td>7.8</td>\n",
       "      <td>3</td>\n",
       "    </tr>\n",
       "    <tr>\n",
       "      <th>50</th>\n",
       "      <td>sub11</td>\n",
       "      <td>0</td>\n",
       "      <td>math</td>\n",
       "      <td>14.5</td>\n",
       "      <td>0.73</td>\n",
       "      <td>8.0</td>\n",
       "      <td>4</td>\n",
       "    </tr>\n",
       "    <tr>\n",
       "      <th>55</th>\n",
       "      <td>sub12</td>\n",
       "      <td>1</td>\n",
       "      <td>math</td>\n",
       "      <td>14.2</td>\n",
       "      <td>0.69</td>\n",
       "      <td>5.8</td>\n",
       "      <td>4</td>\n",
       "    </tr>\n",
       "    <tr>\n",
       "      <th>60</th>\n",
       "      <td>sub13</td>\n",
       "      <td>0</td>\n",
       "      <td>math</td>\n",
       "      <td>14.0</td>\n",
       "      <td>0.68</td>\n",
       "      <td>6.0</td>\n",
       "      <td>4</td>\n",
       "    </tr>\n",
       "    <tr>\n",
       "      <th>65</th>\n",
       "      <td>sub14</td>\n",
       "      <td>1</td>\n",
       "      <td>math</td>\n",
       "      <td>13.6</td>\n",
       "      <td>0.73</td>\n",
       "      <td>7.9</td>\n",
       "      <td>4</td>\n",
       "    </tr>\n",
       "    <tr>\n",
       "      <th>70</th>\n",
       "      <td>sub15</td>\n",
       "      <td>0</td>\n",
       "      <td>math</td>\n",
       "      <td>14.5</td>\n",
       "      <td>0.72</td>\n",
       "      <td>7.3</td>\n",
       "      <td>4</td>\n",
       "    </tr>\n",
       "    <tr>\n",
       "      <th>75</th>\n",
       "      <td>sub16</td>\n",
       "      <td>1</td>\n",
       "      <td>math</td>\n",
       "      <td>14.2</td>\n",
       "      <td>0.72</td>\n",
       "      <td>7.3</td>\n",
       "      <td>4</td>\n",
       "    </tr>\n",
       "    <tr>\n",
       "      <th>80</th>\n",
       "      <td>sub17</td>\n",
       "      <td>0</td>\n",
       "      <td>math</td>\n",
       "      <td>14.3</td>\n",
       "      <td>0.62</td>\n",
       "      <td>6.7</td>\n",
       "      <td>2</td>\n",
       "    </tr>\n",
       "    <tr>\n",
       "      <th>85</th>\n",
       "      <td>sub18</td>\n",
       "      <td>1</td>\n",
       "      <td>math</td>\n",
       "      <td>13.1</td>\n",
       "      <td>0.63</td>\n",
       "      <td>5.7</td>\n",
       "      <td>4</td>\n",
       "    </tr>\n",
       "    <tr>\n",
       "      <th>90</th>\n",
       "      <td>sub19</td>\n",
       "      <td>0</td>\n",
       "      <td>math</td>\n",
       "      <td>13.4</td>\n",
       "      <td>0.64</td>\n",
       "      <td>6.4</td>\n",
       "      <td>4</td>\n",
       "    </tr>\n",
       "    <tr>\n",
       "      <th>95</th>\n",
       "      <td>sub20</td>\n",
       "      <td>1</td>\n",
       "      <td>math</td>\n",
       "      <td>13.2</td>\n",
       "      <td>0.74</td>\n",
       "      <td>7.9</td>\n",
       "      <td>4</td>\n",
       "    </tr>\n",
       "  </tbody>\n",
       "</table>\n",
       "</div>"
      ],
      "text/plain": [
       "   subject  sex class   age  test_score  hours_slept  test_difficulty\n",
       "0    sub01    0  math  13.2        0.61          6.5                3\n",
       "5    sub02    1  math  14.6        0.71          8.0                3\n",
       "10   sub03    0  math  14.2        0.68          5.7                3\n",
       "15   sub04    1  math  13.3        0.65          6.1                4\n",
       "20   sub05    0  math  14.2        0.73          8.3                2\n",
       "25   sub06    1  math  14.8        0.68          6.4                3\n",
       "30   sub07    0  math  13.8        0.73          8.0                4\n",
       "35   sub08    1  math  13.9        0.74          8.0                5\n",
       "40   sub09    0  math  13.2        0.73          7.0                3\n",
       "45   sub10    1  math  14.8        0.71          7.8                3\n",
       "50   sub11    0  math  14.5        0.73          8.0                4\n",
       "55   sub12    1  math  14.2        0.69          5.8                4\n",
       "60   sub13    0  math  14.0        0.68          6.0                4\n",
       "65   sub14    1  math  13.6        0.73          7.9                4\n",
       "70   sub15    0  math  14.5        0.72          7.3                4\n",
       "75   sub16    1  math  14.2        0.72          7.3                4\n",
       "80   sub17    0  math  14.3        0.62          6.7                2\n",
       "85   sub18    1  math  13.1        0.63          5.7                4\n",
       "90   sub19    0  math  13.4        0.64          6.4                4\n",
       "95   sub20    1  math  13.2        0.74          7.9                4"
      ]
     },
     "execution_count": 59,
     "metadata": {},
     "output_type": "execute_result"
    }
   ],
   "source": [
    "#2. create a new dataframe called math_class with only the rows in the class column that equal math and all of the columns\n",
    "math_class = sleep[sleep['class']=='math']\n",
    "math_class"
   ]
  },
  {
   "cell_type": "code",
   "execution_count": 60,
   "metadata": {
    "collapsed": false
   },
   "outputs": [
    {
     "data": {
      "text/plain": [
       "3.55"
      ]
     },
     "execution_count": 60,
     "metadata": {},
     "output_type": "execute_result"
    }
   ],
   "source": [
    "#2a What is the mean of test_difficulty column for only the math test?\n",
    "math_class['test_difficulty'].mean()"
   ]
  },
  {
   "cell_type": "code",
   "execution_count": 63,
   "metadata": {
    "collapsed": false
   },
   "outputs": [
    {
     "data": {
      "text/plain": [
       "class\n",
       "art        0.9480\n",
       "english    0.8320\n",
       "history    0.8825\n",
       "math       0.6935\n",
       "science    0.7655\n",
       "Name: test_score, dtype: float64"
      ]
     },
     "execution_count": 63,
     "metadata": {},
     "output_type": "execute_result"
    }
   ],
   "source": [
    "#3. Back to the entire data set called sleep, what is the mean test score for each class?\n",
    "sleep.groupby('class')['test_score'].mean()"
   ]
  },
  {
   "cell_type": "code",
   "execution_count": 64,
   "metadata": {
    "collapsed": false
   },
   "outputs": [
    {
     "data": {
      "text/plain": [
       "class\n",
       "art        0.041751\n",
       "english    0.048515\n",
       "history    0.055713\n",
       "math       0.042708\n",
       "science    0.040194\n",
       "Name: test_score, dtype: float64"
      ]
     },
     "execution_count": 64,
     "metadata": {},
     "output_type": "execute_result"
    }
   ],
   "source": [
    "#4. What is the standard deviation of test scores for each class?\n",
    "sleep.groupby('class')['test_score'].std()"
   ]
  },
  {
   "cell_type": "code",
   "execution_count": 71,
   "metadata": {
    "collapsed": false
   },
   "outputs": [
    {
     "data": {
      "text/html": [
       "<div>\n",
       "<table border=\"1\" class=\"dataframe\">\n",
       "  <thead>\n",
       "    <tr style=\"text-align: right;\">\n",
       "      <th></th>\n",
       "      <th>class</th>\n",
       "      <th>test_score</th>\n",
       "    </tr>\n",
       "  </thead>\n",
       "  <tbody>\n",
       "    <tr>\n",
       "      <th>0</th>\n",
       "      <td>art</td>\n",
       "      <td>0.041751</td>\n",
       "    </tr>\n",
       "    <tr>\n",
       "      <th>1</th>\n",
       "      <td>english</td>\n",
       "      <td>0.048515</td>\n",
       "    </tr>\n",
       "    <tr>\n",
       "      <th>2</th>\n",
       "      <td>history</td>\n",
       "      <td>0.055713</td>\n",
       "    </tr>\n",
       "    <tr>\n",
       "      <th>3</th>\n",
       "      <td>math</td>\n",
       "      <td>0.042708</td>\n",
       "    </tr>\n",
       "    <tr>\n",
       "      <th>4</th>\n",
       "      <td>science</td>\n",
       "      <td>0.040194</td>\n",
       "    </tr>\n",
       "  </tbody>\n",
       "</table>\n",
       "</div>"
      ],
      "text/plain": [
       "     class  test_score\n",
       "0      art    0.041751\n",
       "1  english    0.048515\n",
       "2  history    0.055713\n",
       "3     math    0.042708\n",
       "4  science    0.040194"
      ]
     },
     "execution_count": 71,
     "metadata": {},
     "output_type": "execute_result"
    }
   ],
   "source": [
    "#create a dataframe that is easy to manipulate\n",
    "pd.DataFrame(sleep.groupby('class')['test_score'].std()).reset_index()"
   ]
  },
  {
   "cell_type": "code",
   "execution_count": null,
   "metadata": {
    "collapsed": true
   },
   "outputs": [],
   "source": []
  }
 ],
 "metadata": {
  "kernelspec": {
   "display_name": "Python 2",
   "language": "python",
   "name": "python2"
  },
  "language_info": {
   "codemirror_mode": {
    "name": "ipython",
    "version": 2
   },
   "file_extension": ".py",
   "mimetype": "text/x-python",
   "name": "python",
   "nbconvert_exporter": "python",
   "pygments_lexer": "ipython2",
   "version": "2.7.13"
  }
 },
 "nbformat": 4,
 "nbformat_minor": 2
}
