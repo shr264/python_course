{
 "cells": [
  {
   "cell_type": "code",
   "execution_count": 1,
   "metadata": {
    "collapsed": true
   },
   "outputs": [],
   "source": [
    "#ifelse statements and loops\n",
    "#What is a loop and why do you use it?\n",
    "###use loops do repeat the same procedure multiple times\n",
    "import pandas as pd\n",
    "import numpy as np"
   ]
  },
  {
   "cell_type": "code",
   "execution_count": 2,
   "metadata": {
    "collapsed": true
   },
   "outputs": [],
   "source": [
    "data = pd.read_csv('class_data/object_types.csv')"
   ]
  },
  {
   "cell_type": "code",
   "execution_count": 3,
   "metadata": {
    "collapsed": false
   },
   "outputs": [
    {
     "data": {
      "text/html": [
       "<div>\n",
       "<table border=\"1\" class=\"dataframe\">\n",
       "  <thead>\n",
       "    <tr style=\"text-align: right;\">\n",
       "      <th></th>\n",
       "      <th>hours_slept</th>\n",
       "      <th>test_scores</th>\n",
       "      <th>subject</th>\n",
       "      <th>sex</th>\n",
       "      <th>initials</th>\n",
       "      <th>condition</th>\n",
       "      <th>complete</th>\n",
       "    </tr>\n",
       "  </thead>\n",
       "  <tbody>\n",
       "    <tr>\n",
       "      <th>0</th>\n",
       "      <td>6.0</td>\n",
       "      <td>0.80</td>\n",
       "      <td>sub01</td>\n",
       "      <td>0</td>\n",
       "      <td>RS</td>\n",
       "      <td>3</td>\n",
       "      <td>True</td>\n",
       "    </tr>\n",
       "    <tr>\n",
       "      <th>1</th>\n",
       "      <td>7.0</td>\n",
       "      <td>0.85</td>\n",
       "      <td>sub02</td>\n",
       "      <td>1</td>\n",
       "      <td>EE</td>\n",
       "      <td>3</td>\n",
       "      <td>True</td>\n",
       "    </tr>\n",
       "    <tr>\n",
       "      <th>2</th>\n",
       "      <td>6.5</td>\n",
       "      <td>0.80</td>\n",
       "      <td>sub03</td>\n",
       "      <td>1</td>\n",
       "      <td>DR</td>\n",
       "      <td>3</td>\n",
       "      <td>True</td>\n",
       "    </tr>\n",
       "    <tr>\n",
       "      <th>3</th>\n",
       "      <td>5.0</td>\n",
       "      <td>0.70</td>\n",
       "      <td>sub04</td>\n",
       "      <td>1</td>\n",
       "      <td>GM</td>\n",
       "      <td>4</td>\n",
       "      <td>True</td>\n",
       "    </tr>\n",
       "    <tr>\n",
       "      <th>4</th>\n",
       "      <td>7.0</td>\n",
       "      <td>0.90</td>\n",
       "      <td>sub05</td>\n",
       "      <td>0</td>\n",
       "      <td>PL</td>\n",
       "      <td>4</td>\n",
       "      <td>True</td>\n",
       "    </tr>\n",
       "  </tbody>\n",
       "</table>\n",
       "</div>"
      ],
      "text/plain": [
       "   hours_slept  test_scores subject  sex initials  condition complete\n",
       "0          6.0         0.80   sub01    0       RS          3     True\n",
       "1          7.0         0.85   sub02    1       EE          3     True\n",
       "2          6.5         0.80   sub03    1       DR          3     True\n",
       "3          5.0         0.70   sub04    1       GM          4     True\n",
       "4          7.0         0.90   sub05    0       PL          4     True"
      ]
     },
     "execution_count": 3,
     "metadata": {},
     "output_type": "execute_result"
    }
   ],
   "source": [
    "data.head()"
   ]
  },
  {
   "cell_type": "code",
   "execution_count": 4,
   "metadata": {
    "collapsed": false
   },
   "outputs": [
    {
     "data": {
      "text/plain": [
       "(20, 7)"
      ]
     },
     "execution_count": 4,
     "metadata": {},
     "output_type": "execute_result"
    }
   ],
   "source": [
    "data.shape"
   ]
  },
  {
   "cell_type": "code",
   "execution_count": 5,
   "metadata": {
    "collapsed": false
   },
   "outputs": [
    {
     "data": {
      "text/plain": [
       "hours_slept    float64\n",
       "test_scores    float64\n",
       "subject         object\n",
       "sex              int64\n",
       "initials        object\n",
       "condition        int64\n",
       "complete          bool\n",
       "dtype: object"
      ]
     },
     "execution_count": 5,
     "metadata": {},
     "output_type": "execute_result"
    }
   ],
   "source": [
    "data.dtypes"
   ]
  },
  {
   "cell_type": "code",
   "execution_count": 7,
   "metadata": {
    "collapsed": true
   },
   "outputs": [],
   "source": [
    "#change data types\n",
    "data['subject'] = data['subject'].astype('category')\n",
    "data['condition'] = data['condition'].astype('category')\n",
    "data['sex'] = data['sex'].astype('category')"
   ]
  },
  {
   "cell_type": "code",
   "execution_count": 12,
   "metadata": {
    "collapsed": false
   },
   "outputs": [
    {
     "name": "stdout",
     "output_type": "stream",
     "text": [
      "5\n",
      "6\n",
      "7\n",
      "8\n",
      "9\n",
      "10\n",
      "11\n",
      "12\n",
      "13\n",
      "14\n",
      "15\n",
      "16\n",
      "17\n",
      "18\n",
      "19\n",
      "20\n"
     ]
    }
   ],
   "source": [
    "## structure for a loop\n",
    "#this code is saying print each value for i of the sequence 1 to 20\n",
    "for i in range(21):\n",
    "    print i"
   ]
  },
  {
   "cell_type": "code",
   "execution_count": 11,
   "metadata": {
    "collapsed": false
   },
   "outputs": [
    {
     "data": {
      "text/plain": [
       "(1, 30)"
      ]
     },
     "execution_count": 11,
     "metadata": {},
     "output_type": "execute_result"
    }
   ],
   "source": [
    "1,30"
   ]
  },
  {
   "cell_type": "code",
   "execution_count": 13,
   "metadata": {
    "collapsed": false
   },
   "outputs": [
    {
     "name": "stdout",
     "output_type": "stream",
     "text": [
      "5\n",
      "6\n",
      "7\n",
      "8\n",
      "9\n",
      "10\n"
     ]
    }
   ],
   "source": [
    "#a lot of people use i but you can use any variable name\n",
    "for participant in range(5,11):\n",
    "    print participant\n",
    "#now this code is saying print the value for participant of the sequence 5 to 10"
   ]
  },
  {
   "cell_type": "code",
   "execution_count": 14,
   "metadata": {
    "collapsed": false
   },
   "outputs": [
    {
     "name": "stdout",
     "output_type": "stream",
     "text": [
      "0.8\n",
      "0.85\n",
      "0.8\n",
      "0.7\n",
      "0.9\n",
      "0.9\n",
      "0.92\n",
      "0.87\n",
      "0.5\n",
      "0.87\n",
      "0.81\n",
      "0.9\n",
      "0.7\n",
      "0.77\n",
      "0.82\n",
      "0.93\n",
      "0.92\n",
      "0.52\n",
      "0.84\n",
      "0.95\n"
     ]
    }
   ],
   "source": [
    "for i in data['test_scores']:\n",
    "    print i"
   ]
  },
  {
   "cell_type": "code",
   "execution_count": 21,
   "metadata": {
    "collapsed": false
   },
   "outputs": [],
   "source": [
    "#say the professor decided to add 5% to everyone's test score \n",
    "curve = []\n",
    "for row in data['test_scores']:\n",
    "    curve.append(row + .05)"
   ]
  },
  {
   "cell_type": "code",
   "execution_count": 23,
   "metadata": {
    "collapsed": false
   },
   "outputs": [
    {
     "data": {
      "text/html": [
       "<div>\n",
       "<table border=\"1\" class=\"dataframe\">\n",
       "  <thead>\n",
       "    <tr style=\"text-align: right;\">\n",
       "      <th></th>\n",
       "      <th>test_scores</th>\n",
       "      <th>curve</th>\n",
       "    </tr>\n",
       "  </thead>\n",
       "  <tbody>\n",
       "    <tr>\n",
       "      <th>0</th>\n",
       "      <td>0.80</td>\n",
       "      <td>0.85</td>\n",
       "    </tr>\n",
       "    <tr>\n",
       "      <th>1</th>\n",
       "      <td>0.85</td>\n",
       "      <td>0.90</td>\n",
       "    </tr>\n",
       "    <tr>\n",
       "      <th>2</th>\n",
       "      <td>0.80</td>\n",
       "      <td>0.85</td>\n",
       "    </tr>\n",
       "    <tr>\n",
       "      <th>3</th>\n",
       "      <td>0.70</td>\n",
       "      <td>0.75</td>\n",
       "    </tr>\n",
       "    <tr>\n",
       "      <th>4</th>\n",
       "      <td>0.90</td>\n",
       "      <td>0.95</td>\n",
       "    </tr>\n",
       "    <tr>\n",
       "      <th>5</th>\n",
       "      <td>0.90</td>\n",
       "      <td>0.95</td>\n",
       "    </tr>\n",
       "    <tr>\n",
       "      <th>6</th>\n",
       "      <td>0.92</td>\n",
       "      <td>0.97</td>\n",
       "    </tr>\n",
       "    <tr>\n",
       "      <th>7</th>\n",
       "      <td>0.87</td>\n",
       "      <td>0.92</td>\n",
       "    </tr>\n",
       "    <tr>\n",
       "      <th>8</th>\n",
       "      <td>0.50</td>\n",
       "      <td>0.55</td>\n",
       "    </tr>\n",
       "    <tr>\n",
       "      <th>9</th>\n",
       "      <td>0.87</td>\n",
       "      <td>0.92</td>\n",
       "    </tr>\n",
       "    <tr>\n",
       "      <th>10</th>\n",
       "      <td>0.81</td>\n",
       "      <td>0.86</td>\n",
       "    </tr>\n",
       "    <tr>\n",
       "      <th>11</th>\n",
       "      <td>0.90</td>\n",
       "      <td>0.95</td>\n",
       "    </tr>\n",
       "    <tr>\n",
       "      <th>12</th>\n",
       "      <td>0.70</td>\n",
       "      <td>0.75</td>\n",
       "    </tr>\n",
       "    <tr>\n",
       "      <th>13</th>\n",
       "      <td>0.77</td>\n",
       "      <td>0.82</td>\n",
       "    </tr>\n",
       "    <tr>\n",
       "      <th>14</th>\n",
       "      <td>0.82</td>\n",
       "      <td>0.87</td>\n",
       "    </tr>\n",
       "    <tr>\n",
       "      <th>15</th>\n",
       "      <td>0.93</td>\n",
       "      <td>0.98</td>\n",
       "    </tr>\n",
       "    <tr>\n",
       "      <th>16</th>\n",
       "      <td>0.92</td>\n",
       "      <td>0.97</td>\n",
       "    </tr>\n",
       "    <tr>\n",
       "      <th>17</th>\n",
       "      <td>0.52</td>\n",
       "      <td>0.57</td>\n",
       "    </tr>\n",
       "    <tr>\n",
       "      <th>18</th>\n",
       "      <td>0.84</td>\n",
       "      <td>0.89</td>\n",
       "    </tr>\n",
       "    <tr>\n",
       "      <th>19</th>\n",
       "      <td>0.95</td>\n",
       "      <td>1.00</td>\n",
       "    </tr>\n",
       "  </tbody>\n",
       "</table>\n",
       "</div>"
      ],
      "text/plain": [
       "    test_scores  curve\n",
       "0          0.80   0.85\n",
       "1          0.85   0.90\n",
       "2          0.80   0.85\n",
       "3          0.70   0.75\n",
       "4          0.90   0.95\n",
       "5          0.90   0.95\n",
       "6          0.92   0.97\n",
       "7          0.87   0.92\n",
       "8          0.50   0.55\n",
       "9          0.87   0.92\n",
       "10         0.81   0.86\n",
       "11         0.90   0.95\n",
       "12         0.70   0.75\n",
       "13         0.77   0.82\n",
       "14         0.82   0.87\n",
       "15         0.93   0.98\n",
       "16         0.92   0.97\n",
       "17         0.52   0.57\n",
       "18         0.84   0.89\n",
       "19         0.95   1.00"
      ]
     },
     "execution_count": 23,
     "metadata": {},
     "output_type": "execute_result"
    }
   ],
   "source": [
    "data['curve'] = curve\n",
    "#let's look\n",
    "data[['test_scores','curve']]"
   ]
  },
  {
   "cell_type": "code",
   "execution_count": 27,
   "metadata": {
    "collapsed": false
   },
   "outputs": [
    {
     "data": {
      "text/html": [
       "<div>\n",
       "<table border=\"1\" class=\"dataframe\">\n",
       "  <thead>\n",
       "    <tr style=\"text-align: right;\">\n",
       "      <th></th>\n",
       "      <th>hours_slept</th>\n",
       "      <th>minutes_slept</th>\n",
       "    </tr>\n",
       "  </thead>\n",
       "  <tbody>\n",
       "    <tr>\n",
       "      <th>0</th>\n",
       "      <td>6.0</td>\n",
       "      <td>360.0</td>\n",
       "    </tr>\n",
       "    <tr>\n",
       "      <th>1</th>\n",
       "      <td>7.0</td>\n",
       "      <td>420.0</td>\n",
       "    </tr>\n",
       "    <tr>\n",
       "      <th>2</th>\n",
       "      <td>6.5</td>\n",
       "      <td>390.0</td>\n",
       "    </tr>\n",
       "    <tr>\n",
       "      <th>3</th>\n",
       "      <td>5.0</td>\n",
       "      <td>300.0</td>\n",
       "    </tr>\n",
       "    <tr>\n",
       "      <th>4</th>\n",
       "      <td>7.0</td>\n",
       "      <td>420.0</td>\n",
       "    </tr>\n",
       "    <tr>\n",
       "      <th>5</th>\n",
       "      <td>8.0</td>\n",
       "      <td>480.0</td>\n",
       "    </tr>\n",
       "    <tr>\n",
       "      <th>6</th>\n",
       "      <td>8.0</td>\n",
       "      <td>480.0</td>\n",
       "    </tr>\n",
       "    <tr>\n",
       "      <th>7</th>\n",
       "      <td>7.5</td>\n",
       "      <td>450.0</td>\n",
       "    </tr>\n",
       "    <tr>\n",
       "      <th>8</th>\n",
       "      <td>4.0</td>\n",
       "      <td>240.0</td>\n",
       "    </tr>\n",
       "    <tr>\n",
       "      <th>9</th>\n",
       "      <td>9.0</td>\n",
       "      <td>540.0</td>\n",
       "    </tr>\n",
       "    <tr>\n",
       "      <th>10</th>\n",
       "      <td>6.0</td>\n",
       "      <td>360.0</td>\n",
       "    </tr>\n",
       "    <tr>\n",
       "      <th>11</th>\n",
       "      <td>6.7</td>\n",
       "      <td>402.0</td>\n",
       "    </tr>\n",
       "    <tr>\n",
       "      <th>12</th>\n",
       "      <td>5.0</td>\n",
       "      <td>300.0</td>\n",
       "    </tr>\n",
       "    <tr>\n",
       "      <th>13</th>\n",
       "      <td>5.0</td>\n",
       "      <td>300.0</td>\n",
       "    </tr>\n",
       "    <tr>\n",
       "      <th>14</th>\n",
       "      <td>5.5</td>\n",
       "      <td>330.0</td>\n",
       "    </tr>\n",
       "    <tr>\n",
       "      <th>15</th>\n",
       "      <td>6.0</td>\n",
       "      <td>360.0</td>\n",
       "    </tr>\n",
       "    <tr>\n",
       "      <th>16</th>\n",
       "      <td>7.5</td>\n",
       "      <td>450.0</td>\n",
       "    </tr>\n",
       "    <tr>\n",
       "      <th>17</th>\n",
       "      <td>4.0</td>\n",
       "      <td>240.0</td>\n",
       "    </tr>\n",
       "    <tr>\n",
       "      <th>18</th>\n",
       "      <td>8.0</td>\n",
       "      <td>480.0</td>\n",
       "    </tr>\n",
       "    <tr>\n",
       "      <th>19</th>\n",
       "      <td>8.0</td>\n",
       "      <td>480.0</td>\n",
       "    </tr>\n",
       "  </tbody>\n",
       "</table>\n",
       "</div>"
      ],
      "text/plain": [
       "    hours_slept  minutes_slept\n",
       "0           6.0          360.0\n",
       "1           7.0          420.0\n",
       "2           6.5          390.0\n",
       "3           5.0          300.0\n",
       "4           7.0          420.0\n",
       "5           8.0          480.0\n",
       "6           8.0          480.0\n",
       "7           7.5          450.0\n",
       "8           4.0          240.0\n",
       "9           9.0          540.0\n",
       "10          6.0          360.0\n",
       "11          6.7          402.0\n",
       "12          5.0          300.0\n",
       "13          5.0          300.0\n",
       "14          5.5          330.0\n",
       "15          6.0          360.0\n",
       "16          7.5          450.0\n",
       "17          4.0          240.0\n",
       "18          8.0          480.0\n",
       "19          8.0          480.0"
      ]
     },
     "execution_count": 27,
     "metadata": {},
     "output_type": "execute_result"
    }
   ],
   "source": [
    "#write a for loop for sequence 1:20 to create a new column in data called minutes_slept that takes hours_slept and multiplies it by 60\n",
    "\n",
    "minutes_slept = []\n",
    "\n",
    "for rows in data['hours_slept']:\n",
    "    minutes_slept.append(rows * 60)\n",
    "    \n",
    "data['minutes_slept'] = minutes_slept\n",
    "data[['hours_slept','minutes_slept']]"
   ]
  },
  {
   "cell_type": "code",
   "execution_count": 31,
   "metadata": {
    "collapsed": false
   },
   "outputs": [],
   "source": [
    "##removing columns\n",
    "#axis = 0 rows\n",
    "#axis = 1 columns\n",
    "data = data.drop('minutes_slept',1)"
   ]
  },
  {
   "cell_type": "code",
   "execution_count": 33,
   "metadata": {
    "collapsed": false
   },
   "outputs": [
    {
     "data": {
      "text/html": [
       "<div>\n",
       "<table border=\"1\" class=\"dataframe\">\n",
       "  <thead>\n",
       "    <tr style=\"text-align: right;\">\n",
       "      <th></th>\n",
       "      <th>hours_slept</th>\n",
       "      <th>test_scores</th>\n",
       "      <th>subject</th>\n",
       "      <th>sex</th>\n",
       "      <th>initials</th>\n",
       "      <th>condition</th>\n",
       "      <th>complete</th>\n",
       "      <th>curve</th>\n",
       "    </tr>\n",
       "  </thead>\n",
       "  <tbody>\n",
       "    <tr>\n",
       "      <th>1</th>\n",
       "      <td>7.0</td>\n",
       "      <td>0.85</td>\n",
       "      <td>sub02</td>\n",
       "      <td>1</td>\n",
       "      <td>EE</td>\n",
       "      <td>3</td>\n",
       "      <td>True</td>\n",
       "      <td>0.90</td>\n",
       "    </tr>\n",
       "    <tr>\n",
       "      <th>2</th>\n",
       "      <td>6.5</td>\n",
       "      <td>0.80</td>\n",
       "      <td>sub03</td>\n",
       "      <td>1</td>\n",
       "      <td>DR</td>\n",
       "      <td>3</td>\n",
       "      <td>True</td>\n",
       "      <td>0.85</td>\n",
       "    </tr>\n",
       "    <tr>\n",
       "      <th>3</th>\n",
       "      <td>5.0</td>\n",
       "      <td>0.70</td>\n",
       "      <td>sub04</td>\n",
       "      <td>1</td>\n",
       "      <td>GM</td>\n",
       "      <td>4</td>\n",
       "      <td>True</td>\n",
       "      <td>0.75</td>\n",
       "    </tr>\n",
       "    <tr>\n",
       "      <th>4</th>\n",
       "      <td>7.0</td>\n",
       "      <td>0.90</td>\n",
       "      <td>sub05</td>\n",
       "      <td>0</td>\n",
       "      <td>PL</td>\n",
       "      <td>4</td>\n",
       "      <td>True</td>\n",
       "      <td>0.95</td>\n",
       "    </tr>\n",
       "    <tr>\n",
       "      <th>5</th>\n",
       "      <td>8.0</td>\n",
       "      <td>0.90</td>\n",
       "      <td>sub06</td>\n",
       "      <td>0</td>\n",
       "      <td>BB</td>\n",
       "      <td>4</td>\n",
       "      <td>True</td>\n",
       "      <td>0.95</td>\n",
       "    </tr>\n",
       "    <tr>\n",
       "      <th>6</th>\n",
       "      <td>8.0</td>\n",
       "      <td>0.92</td>\n",
       "      <td>sub07</td>\n",
       "      <td>0</td>\n",
       "      <td>EV</td>\n",
       "      <td>3</td>\n",
       "      <td>False</td>\n",
       "      <td>0.97</td>\n",
       "    </tr>\n",
       "    <tr>\n",
       "      <th>7</th>\n",
       "      <td>7.5</td>\n",
       "      <td>0.87</td>\n",
       "      <td>sub08</td>\n",
       "      <td>1</td>\n",
       "      <td>TL</td>\n",
       "      <td>4</td>\n",
       "      <td>True</td>\n",
       "      <td>0.92</td>\n",
       "    </tr>\n",
       "    <tr>\n",
       "      <th>8</th>\n",
       "      <td>4.0</td>\n",
       "      <td>0.50</td>\n",
       "      <td>sub09</td>\n",
       "      <td>0</td>\n",
       "      <td>JW</td>\n",
       "      <td>3</td>\n",
       "      <td>False</td>\n",
       "      <td>0.55</td>\n",
       "    </tr>\n",
       "    <tr>\n",
       "      <th>9</th>\n",
       "      <td>9.0</td>\n",
       "      <td>0.87</td>\n",
       "      <td>sub10</td>\n",
       "      <td>1</td>\n",
       "      <td>WB</td>\n",
       "      <td>4</td>\n",
       "      <td>True</td>\n",
       "      <td>0.92</td>\n",
       "    </tr>\n",
       "    <tr>\n",
       "      <th>10</th>\n",
       "      <td>6.0</td>\n",
       "      <td>0.81</td>\n",
       "      <td>sub11</td>\n",
       "      <td>0</td>\n",
       "      <td>TR</td>\n",
       "      <td>3</td>\n",
       "      <td>True</td>\n",
       "      <td>0.86</td>\n",
       "    </tr>\n",
       "    <tr>\n",
       "      <th>11</th>\n",
       "      <td>6.7</td>\n",
       "      <td>0.90</td>\n",
       "      <td>sub12</td>\n",
       "      <td>1</td>\n",
       "      <td>AS</td>\n",
       "      <td>3</td>\n",
       "      <td>True</td>\n",
       "      <td>0.95</td>\n",
       "    </tr>\n",
       "    <tr>\n",
       "      <th>12</th>\n",
       "      <td>5.0</td>\n",
       "      <td>0.70</td>\n",
       "      <td>sub13</td>\n",
       "      <td>0</td>\n",
       "      <td>SN</td>\n",
       "      <td>4</td>\n",
       "      <td>True</td>\n",
       "      <td>0.75</td>\n",
       "    </tr>\n",
       "    <tr>\n",
       "      <th>13</th>\n",
       "      <td>5.0</td>\n",
       "      <td>0.77</td>\n",
       "      <td>sub14</td>\n",
       "      <td>0</td>\n",
       "      <td>TG</td>\n",
       "      <td>4</td>\n",
       "      <td>True</td>\n",
       "      <td>0.82</td>\n",
       "    </tr>\n",
       "    <tr>\n",
       "      <th>14</th>\n",
       "      <td>5.5</td>\n",
       "      <td>0.82</td>\n",
       "      <td>sub15</td>\n",
       "      <td>1</td>\n",
       "      <td>VB</td>\n",
       "      <td>3</td>\n",
       "      <td>True</td>\n",
       "      <td>0.87</td>\n",
       "    </tr>\n",
       "    <tr>\n",
       "      <th>15</th>\n",
       "      <td>6.0</td>\n",
       "      <td>0.93</td>\n",
       "      <td>sub16</td>\n",
       "      <td>1</td>\n",
       "      <td>RS</td>\n",
       "      <td>4</td>\n",
       "      <td>True</td>\n",
       "      <td>0.98</td>\n",
       "    </tr>\n",
       "    <tr>\n",
       "      <th>16</th>\n",
       "      <td>7.5</td>\n",
       "      <td>0.92</td>\n",
       "      <td>sub17</td>\n",
       "      <td>0</td>\n",
       "      <td>TL</td>\n",
       "      <td>4</td>\n",
       "      <td>True</td>\n",
       "      <td>0.97</td>\n",
       "    </tr>\n",
       "    <tr>\n",
       "      <th>17</th>\n",
       "      <td>4.0</td>\n",
       "      <td>0.52</td>\n",
       "      <td>sub18</td>\n",
       "      <td>1</td>\n",
       "      <td>DS</td>\n",
       "      <td>3</td>\n",
       "      <td>True</td>\n",
       "      <td>0.57</td>\n",
       "    </tr>\n",
       "    <tr>\n",
       "      <th>18</th>\n",
       "      <td>8.0</td>\n",
       "      <td>0.84</td>\n",
       "      <td>sub19</td>\n",
       "      <td>0</td>\n",
       "      <td>VT</td>\n",
       "      <td>4</td>\n",
       "      <td>False</td>\n",
       "      <td>0.89</td>\n",
       "    </tr>\n",
       "    <tr>\n",
       "      <th>19</th>\n",
       "      <td>8.0</td>\n",
       "      <td>0.95</td>\n",
       "      <td>sub20</td>\n",
       "      <td>1</td>\n",
       "      <td>EW</td>\n",
       "      <td>4</td>\n",
       "      <td>True</td>\n",
       "      <td>1.00</td>\n",
       "    </tr>\n",
       "  </tbody>\n",
       "</table>\n",
       "</div>"
      ],
      "text/plain": [
       "    hours_slept  test_scores subject sex initials condition complete  curve\n",
       "1           7.0         0.85   sub02   1       EE         3     True   0.90\n",
       "2           6.5         0.80   sub03   1       DR         3     True   0.85\n",
       "3           5.0         0.70   sub04   1       GM         4     True   0.75\n",
       "4           7.0         0.90   sub05   0       PL         4     True   0.95\n",
       "5           8.0         0.90   sub06   0       BB         4     True   0.95\n",
       "6           8.0         0.92   sub07   0       EV         3    False   0.97\n",
       "7           7.5         0.87   sub08   1       TL         4     True   0.92\n",
       "8           4.0         0.50   sub09   0       JW         3    False   0.55\n",
       "9           9.0         0.87   sub10   1       WB         4     True   0.92\n",
       "10          6.0         0.81   sub11   0       TR         3     True   0.86\n",
       "11          6.7         0.90   sub12   1       AS         3     True   0.95\n",
       "12          5.0         0.70   sub13   0       SN         4     True   0.75\n",
       "13          5.0         0.77   sub14   0       TG         4     True   0.82\n",
       "14          5.5         0.82   sub15   1       VB         3     True   0.87\n",
       "15          6.0         0.93   sub16   1       RS         4     True   0.98\n",
       "16          7.5         0.92   sub17   0       TL         4     True   0.97\n",
       "17          4.0         0.52   sub18   1       DS         3     True   0.57\n",
       "18          8.0         0.84   sub19   0       VT         4    False   0.89\n",
       "19          8.0         0.95   sub20   1       EW         4     True   1.00"
      ]
     },
     "execution_count": 33,
     "metadata": {},
     "output_type": "execute_result"
    }
   ],
   "source": [
    "#dropping first column\n",
    "data.drop(0,0)"
   ]
  },
  {
   "cell_type": "code",
   "execution_count": 36,
   "metadata": {
    "collapsed": true
   },
   "outputs": [],
   "source": [
    "data['sleep_quality'] = 'test'"
   ]
  },
  {
   "cell_type": "code",
   "execution_count": 39,
   "metadata": {
    "collapsed": false
   },
   "outputs": [],
   "source": [
    "data.loc[data['hours_slept'] < 6,'sleep_quality'] = 'poor_sleeper'\n",
    "data.loc[data['hours_slept'] >= 6,'sleep_quality'] = 'good_sleeper'"
   ]
  },
  {
   "cell_type": "code",
   "execution_count": 41,
   "metadata": {
    "collapsed": false
   },
   "outputs": [],
   "source": [
    "data[['hours_slept','sleep_quality']]\n",
    "data['sleep_quality'] = data['sleep_quality'].astype('category')"
   ]
  },
  {
   "cell_type": "code",
   "execution_count": 42,
   "metadata": {
    "collapsed": false
   },
   "outputs": [
    {
     "data": {
      "text/plain": [
       "Index([u'good_sleeper', u'poor_sleeper'], dtype='object')"
      ]
     },
     "execution_count": 42,
     "metadata": {},
     "output_type": "execute_result"
    }
   ],
   "source": [
    "data['sleep_quality'].cat.categories"
   ]
  },
  {
   "cell_type": "code",
   "execution_count": 43,
   "metadata": {
    "collapsed": false
   },
   "outputs": [
    {
     "data": {
      "text/html": [
       "<div>\n",
       "<table border=\"1\" class=\"dataframe\">\n",
       "  <thead>\n",
       "    <tr style=\"text-align: right;\">\n",
       "      <th></th>\n",
       "      <th>hours_slept</th>\n",
       "      <th>test_scores</th>\n",
       "      <th>subject</th>\n",
       "      <th>sex</th>\n",
       "      <th>initials</th>\n",
       "      <th>condition</th>\n",
       "      <th>complete</th>\n",
       "      <th>curve</th>\n",
       "    </tr>\n",
       "    <tr>\n",
       "      <th>sleep_quality</th>\n",
       "      <th></th>\n",
       "      <th></th>\n",
       "      <th></th>\n",
       "      <th></th>\n",
       "      <th></th>\n",
       "      <th></th>\n",
       "      <th></th>\n",
       "      <th></th>\n",
       "    </tr>\n",
       "  </thead>\n",
       "  <tbody>\n",
       "    <tr>\n",
       "      <th>good_sleeper</th>\n",
       "      <td>14</td>\n",
       "      <td>14</td>\n",
       "      <td>14</td>\n",
       "      <td>14</td>\n",
       "      <td>14</td>\n",
       "      <td>14</td>\n",
       "      <td>14</td>\n",
       "      <td>14</td>\n",
       "    </tr>\n",
       "    <tr>\n",
       "      <th>poor_sleeper</th>\n",
       "      <td>6</td>\n",
       "      <td>6</td>\n",
       "      <td>6</td>\n",
       "      <td>6</td>\n",
       "      <td>6</td>\n",
       "      <td>6</td>\n",
       "      <td>6</td>\n",
       "      <td>6</td>\n",
       "    </tr>\n",
       "  </tbody>\n",
       "</table>\n",
       "</div>"
      ],
      "text/plain": [
       "               hours_slept  test_scores  subject  sex  initials  condition  \\\n",
       "sleep_quality                                                                \n",
       "good_sleeper            14           14       14   14        14         14   \n",
       "poor_sleeper             6            6        6    6         6          6   \n",
       "\n",
       "               complete  curve  \n",
       "sleep_quality                   \n",
       "good_sleeper         14     14  \n",
       "poor_sleeper          6      6  "
      ]
     },
     "execution_count": 43,
     "metadata": {},
     "output_type": "execute_result"
    }
   ],
   "source": [
    "data.groupby('sleep_quality').count()"
   ]
  },
  {
   "cell_type": "code",
   "execution_count": 45,
   "metadata": {
    "collapsed": false
   },
   "outputs": [],
   "source": [
    "letter_grades = []\n",
    "for i in data['test_scores']:\n",
    "    if i >= .9:\n",
    "        letter_grades.append('A')\n",
    "    elif i >= .8:\n",
    "        letter_grades.append('B')\n",
    "    elif i >= .7:\n",
    "        letter_grades.append('C')\n",
    "    elif i >= .6:\n",
    "        letter_grades.append('D')\n",
    "    else:\n",
    "        letter_grades.append('F')\n",
    "letter_grades\n",
    "data['letter_grades'] = letter_grades    "
   ]
  },
  {
   "cell_type": "code",
   "execution_count": 46,
   "metadata": {
    "collapsed": false
   },
   "outputs": [
    {
     "data": {
      "text/html": [
       "<div>\n",
       "<table border=\"1\" class=\"dataframe\">\n",
       "  <thead>\n",
       "    <tr style=\"text-align: right;\">\n",
       "      <th></th>\n",
       "      <th>test_scores</th>\n",
       "      <th>letter_grades</th>\n",
       "    </tr>\n",
       "  </thead>\n",
       "  <tbody>\n",
       "    <tr>\n",
       "      <th>0</th>\n",
       "      <td>0.80</td>\n",
       "      <td>B</td>\n",
       "    </tr>\n",
       "    <tr>\n",
       "      <th>1</th>\n",
       "      <td>0.85</td>\n",
       "      <td>B</td>\n",
       "    </tr>\n",
       "    <tr>\n",
       "      <th>2</th>\n",
       "      <td>0.80</td>\n",
       "      <td>B</td>\n",
       "    </tr>\n",
       "    <tr>\n",
       "      <th>3</th>\n",
       "      <td>0.70</td>\n",
       "      <td>C</td>\n",
       "    </tr>\n",
       "    <tr>\n",
       "      <th>4</th>\n",
       "      <td>0.90</td>\n",
       "      <td>A</td>\n",
       "    </tr>\n",
       "    <tr>\n",
       "      <th>5</th>\n",
       "      <td>0.90</td>\n",
       "      <td>A</td>\n",
       "    </tr>\n",
       "    <tr>\n",
       "      <th>6</th>\n",
       "      <td>0.92</td>\n",
       "      <td>A</td>\n",
       "    </tr>\n",
       "    <tr>\n",
       "      <th>7</th>\n",
       "      <td>0.87</td>\n",
       "      <td>B</td>\n",
       "    </tr>\n",
       "    <tr>\n",
       "      <th>8</th>\n",
       "      <td>0.50</td>\n",
       "      <td>F</td>\n",
       "    </tr>\n",
       "    <tr>\n",
       "      <th>9</th>\n",
       "      <td>0.87</td>\n",
       "      <td>B</td>\n",
       "    </tr>\n",
       "    <tr>\n",
       "      <th>10</th>\n",
       "      <td>0.81</td>\n",
       "      <td>B</td>\n",
       "    </tr>\n",
       "    <tr>\n",
       "      <th>11</th>\n",
       "      <td>0.90</td>\n",
       "      <td>A</td>\n",
       "    </tr>\n",
       "    <tr>\n",
       "      <th>12</th>\n",
       "      <td>0.70</td>\n",
       "      <td>C</td>\n",
       "    </tr>\n",
       "    <tr>\n",
       "      <th>13</th>\n",
       "      <td>0.77</td>\n",
       "      <td>C</td>\n",
       "    </tr>\n",
       "    <tr>\n",
       "      <th>14</th>\n",
       "      <td>0.82</td>\n",
       "      <td>B</td>\n",
       "    </tr>\n",
       "    <tr>\n",
       "      <th>15</th>\n",
       "      <td>0.93</td>\n",
       "      <td>A</td>\n",
       "    </tr>\n",
       "    <tr>\n",
       "      <th>16</th>\n",
       "      <td>0.92</td>\n",
       "      <td>A</td>\n",
       "    </tr>\n",
       "    <tr>\n",
       "      <th>17</th>\n",
       "      <td>0.52</td>\n",
       "      <td>F</td>\n",
       "    </tr>\n",
       "    <tr>\n",
       "      <th>18</th>\n",
       "      <td>0.84</td>\n",
       "      <td>B</td>\n",
       "    </tr>\n",
       "    <tr>\n",
       "      <th>19</th>\n",
       "      <td>0.95</td>\n",
       "      <td>A</td>\n",
       "    </tr>\n",
       "  </tbody>\n",
       "</table>\n",
       "</div>"
      ],
      "text/plain": [
       "    test_scores letter_grades\n",
       "0          0.80             B\n",
       "1          0.85             B\n",
       "2          0.80             B\n",
       "3          0.70             C\n",
       "4          0.90             A\n",
       "5          0.90             A\n",
       "6          0.92             A\n",
       "7          0.87             B\n",
       "8          0.50             F\n",
       "9          0.87             B\n",
       "10         0.81             B\n",
       "11         0.90             A\n",
       "12         0.70             C\n",
       "13         0.77             C\n",
       "14         0.82             B\n",
       "15         0.93             A\n",
       "16         0.92             A\n",
       "17         0.52             F\n",
       "18         0.84             B\n",
       "19         0.95             A"
      ]
     },
     "execution_count": 46,
     "metadata": {},
     "output_type": "execute_result"
    }
   ],
   "source": [
    "data[['test_scores','letter_grades']]"
   ]
  },
  {
   "cell_type": "code",
   "execution_count": null,
   "metadata": {
    "collapsed": true
   },
   "outputs": [],
   "source": []
  }
 ],
 "metadata": {
  "kernelspec": {
   "display_name": "Python 2",
   "language": "python",
   "name": "python2"
  },
  "language_info": {
   "codemirror_mode": {
    "name": "ipython",
    "version": 2
   },
   "file_extension": ".py",
   "mimetype": "text/x-python",
   "name": "python",
   "nbconvert_exporter": "python",
   "pygments_lexer": "ipython2",
   "version": "2.7.13"
  }
 },
 "nbformat": 4,
 "nbformat_minor": 2
}
